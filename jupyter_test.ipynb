{
 "cells": [
  {
   "cell_type": "markdown",
   "id": "31934b17-b6ea-44fe-9f07-819b08f6fdbe",
   "metadata": {},
   "source": [
    "This notebook is a quick test to determine if you can run a notebook on Google Colab.  Click on the cell below this and press the **shift** key, then the **return**.  You should see the value 2. If that works, you're good to go.  "
   ]
  },
  {
   "cell_type": "code",
   "execution_count": null,
   "id": "e0aca288-5b2f-4d86-9fbf-6fbbb3b29601",
   "metadata": {},
   "outputs": [],
   "source": [
    "1+1 "
   ]
  },
  {
   "cell_type": "code",
   "execution_count": null,
   "id": "4c9f2955-202a-4a84-88e8-83a589b1cf03",
   "metadata": {},
   "outputs": [],
   "source": []
  }
 ],
 "metadata": {
  "kernelspec": {
   "display_name": "Python 3 (ipykernel)",
   "language": "python",
   "name": "python3"
  },
  "language_info": {
   "codemirror_mode": {
    "name": "ipython",
    "version": 3
   },
   "file_extension": ".py",
   "mimetype": "text/x-python",
   "name": "python",
   "nbconvert_exporter": "python",
   "pygments_lexer": "ipython3",
   "version": "3.11.9"
  }
 },
 "nbformat": 4,
 "nbformat_minor": 5
}
